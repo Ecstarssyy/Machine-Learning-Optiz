{
 "cells": [
  {
   "cell_type": "markdown",
   "id": "371ed2b9",
   "metadata": {},
   "source": [
    "## Install Library"
   ]
  },
  {
   "cell_type": "code",
   "execution_count": 100,
   "id": "96ed9e21",
   "metadata": {},
   "outputs": [],
   "source": [
    "import pandas as pd\n",
    "import numpy as np\n",
    "import matplotlib.pyplot as plt\n",
    "from sklearn.preprocessing import MinMaxScaler\n",
    "from statsmodels.tsa.statespace.sarimax import SARIMAX\n",
    "from tensorflow.keras.models import Sequential\n",
    "from tensorflow.keras.layers import GRU, Dense, Dropout\n",
    "from sklearn.metrics import mean_absolute_error, r2_score, mean_absolute_percentage_error\n",
    "\n",
    "import warnings\n",
    "warnings.filterwarnings('ignore')"
   ]
  },
  {
   "cell_type": "markdown",
   "id": "701ccc42",
   "metadata": {},
   "source": [
    "## Loading Dataset"
   ]
  },
  {
   "cell_type": "code",
   "execution_count": 101,
   "id": "cb16028a",
   "metadata": {},
   "outputs": [
    {
     "data": {
      "application/vnd.microsoft.datawrangler.viewer.v0+json": {
       "columns": [
        {
         "name": "index",
         "rawType": "int64",
         "type": "integer"
        },
        {
         "name": "Customer Reference ID",
         "rawType": "int64",
         "type": "integer"
        },
        {
         "name": "Item Purchased",
         "rawType": "object",
         "type": "string"
        },
        {
         "name": "Purchase Amount (USD)",
         "rawType": "float64",
         "type": "float"
        },
        {
         "name": "Date Purchase",
         "rawType": "object",
         "type": "string"
        },
        {
         "name": "Review Rating",
         "rawType": "float64",
         "type": "float"
        },
        {
         "name": "Payment Method",
         "rawType": "object",
         "type": "string"
        }
       ],
       "ref": "3cf5b06c-5f5e-40af-959c-7ed2b1ecaba5",
       "rows": [
        [
         "0",
         "4018",
         "Handbag",
         "4619.0",
         "2023-02-05",
         null,
         "Credit Card"
        ],
        [
         "1",
         "4115",
         "Tunic",
         "2456.0",
         "2023-07-11",
         "2.0",
         "Credit Card"
        ],
        [
         "2",
         "4019",
         "Tank Top",
         "2102.0",
         "2023-03-23",
         "4.1",
         "Cash"
        ],
        [
         "3",
         "4097",
         "Leggings",
         "3126.0",
         "2023-03-15",
         "3.2",
         "Cash"
        ],
        [
         "4",
         "3997",
         "Wallet",
         "3003.0",
         "2022-11-27",
         "4.7",
         "Cash"
        ]
       ],
       "shape": {
        "columns": 6,
        "rows": 5
       }
      },
      "text/html": [
       "<div>\n",
       "<style scoped>\n",
       "    .dataframe tbody tr th:only-of-type {\n",
       "        vertical-align: middle;\n",
       "    }\n",
       "\n",
       "    .dataframe tbody tr th {\n",
       "        vertical-align: top;\n",
       "    }\n",
       "\n",
       "    .dataframe thead th {\n",
       "        text-align: right;\n",
       "    }\n",
       "</style>\n",
       "<table border=\"1\" class=\"dataframe\">\n",
       "  <thead>\n",
       "    <tr style=\"text-align: right;\">\n",
       "      <th></th>\n",
       "      <th>Customer Reference ID</th>\n",
       "      <th>Item Purchased</th>\n",
       "      <th>Purchase Amount (USD)</th>\n",
       "      <th>Date Purchase</th>\n",
       "      <th>Review Rating</th>\n",
       "      <th>Payment Method</th>\n",
       "    </tr>\n",
       "  </thead>\n",
       "  <tbody>\n",
       "    <tr>\n",
       "      <th>0</th>\n",
       "      <td>4018</td>\n",
       "      <td>Handbag</td>\n",
       "      <td>4619.0</td>\n",
       "      <td>2023-02-05</td>\n",
       "      <td>NaN</td>\n",
       "      <td>Credit Card</td>\n",
       "    </tr>\n",
       "    <tr>\n",
       "      <th>1</th>\n",
       "      <td>4115</td>\n",
       "      <td>Tunic</td>\n",
       "      <td>2456.0</td>\n",
       "      <td>2023-07-11</td>\n",
       "      <td>2.0</td>\n",
       "      <td>Credit Card</td>\n",
       "    </tr>\n",
       "    <tr>\n",
       "      <th>2</th>\n",
       "      <td>4019</td>\n",
       "      <td>Tank Top</td>\n",
       "      <td>2102.0</td>\n",
       "      <td>2023-03-23</td>\n",
       "      <td>4.1</td>\n",
       "      <td>Cash</td>\n",
       "    </tr>\n",
       "    <tr>\n",
       "      <th>3</th>\n",
       "      <td>4097</td>\n",
       "      <td>Leggings</td>\n",
       "      <td>3126.0</td>\n",
       "      <td>2023-03-15</td>\n",
       "      <td>3.2</td>\n",
       "      <td>Cash</td>\n",
       "    </tr>\n",
       "    <tr>\n",
       "      <th>4</th>\n",
       "      <td>3997</td>\n",
       "      <td>Wallet</td>\n",
       "      <td>3003.0</td>\n",
       "      <td>2022-11-27</td>\n",
       "      <td>4.7</td>\n",
       "      <td>Cash</td>\n",
       "    </tr>\n",
       "  </tbody>\n",
       "</table>\n",
       "</div>"
      ],
      "text/plain": [
       "   Customer Reference ID Item Purchased  Purchase Amount (USD) Date Purchase  \\\n",
       "0                   4018        Handbag                 4619.0    2023-02-05   \n",
       "1                   4115          Tunic                 2456.0    2023-07-11   \n",
       "2                   4019       Tank Top                 2102.0    2023-03-23   \n",
       "3                   4097       Leggings                 3126.0    2023-03-15   \n",
       "4                   3997         Wallet                 3003.0    2022-11-27   \n",
       "\n",
       "   Review Rating Payment Method  \n",
       "0            NaN    Credit Card  \n",
       "1            2.0    Credit Card  \n",
       "2            4.1           Cash  \n",
       "3            3.2           Cash  \n",
       "4            4.7           Cash  "
      ]
     },
     "execution_count": 101,
     "metadata": {},
     "output_type": "execute_result"
    }
   ],
   "source": [
    "df = pd.read_csv('Fashion_Retail_Sales.csv')\n",
    "df.head()"
   ]
  },
  {
   "cell_type": "code",
   "execution_count": 102,
   "id": "1c0d5a0e",
   "metadata": {},
   "outputs": [
    {
     "name": "stdout",
     "output_type": "stream",
     "text": [
      "<class 'pandas.core.frame.DataFrame'>\n",
      "RangeIndex: 3400 entries, 0 to 3399\n",
      "Data columns (total 6 columns):\n",
      " #   Column                 Non-Null Count  Dtype  \n",
      "---  ------                 --------------  -----  \n",
      " 0   Customer Reference ID  3400 non-null   int64  \n",
      " 1   Item Purchased         3400 non-null   object \n",
      " 2   Purchase Amount (USD)  2750 non-null   float64\n",
      " 3   Date Purchase          3400 non-null   object \n",
      " 4   Review Rating          3076 non-null   float64\n",
      " 5   Payment Method         3400 non-null   object \n",
      "dtypes: float64(2), int64(1), object(3)\n",
      "memory usage: 159.5+ KB\n"
     ]
    }
   ],
   "source": [
    "df.info()"
   ]
  },
  {
   "cell_type": "code",
   "execution_count": 103,
   "id": "3afa3d05",
   "metadata": {},
   "outputs": [
    {
     "data": {
      "application/vnd.microsoft.datawrangler.viewer.v0+json": {
       "columns": [
        {
         "name": "index",
         "rawType": "object",
         "type": "string"
        },
        {
         "name": "Customer Reference ID",
         "rawType": "float64",
         "type": "float"
        },
        {
         "name": "Item Purchased",
         "rawType": "object",
         "type": "unknown"
        },
        {
         "name": "Purchase Amount (USD)",
         "rawType": "float64",
         "type": "float"
        },
        {
         "name": "Date Purchase",
         "rawType": "object",
         "type": "unknown"
        },
        {
         "name": "Review Rating",
         "rawType": "float64",
         "type": "float"
        },
        {
         "name": "Payment Method",
         "rawType": "object",
         "type": "unknown"
        }
       ],
       "ref": "0464326a-b722-49f2-a9bc-783b13ed663d",
       "rows": [
        [
         "count",
         "3400.0",
         "3400",
         "2750.0",
         "3400",
         "3076.0",
         "3400"
        ],
        [
         "unique",
         null,
         "50",
         null,
         "365",
         null,
         "2"
        ],
        [
         "top",
         null,
         "Belt",
         null,
         "2023-09-22",
         null,
         "Credit Card"
        ],
        [
         "freq",
         null,
         "90",
         null,
         "17",
         null,
         "1770"
        ],
        [
         "mean",
         "4039.660588235294",
         null,
         "156.70981818181818",
         null,
         "2.9990572171651495",
         null
        ],
        [
         "std",
         "48.12258275608316",
         null,
         "419.5366688715006",
         null,
         "1.1565054266748576",
         null
        ],
        [
         "min",
         "3957.0",
         null,
         "10.0",
         null,
         "1.0",
         null
        ],
        [
         "25%",
         "3997.0",
         null,
         "57.0",
         null,
         "2.0",
         null
        ],
        [
         "50%",
         "4040.0",
         null,
         "110.0",
         null,
         "3.0",
         null
        ],
        [
         "75%",
         "4081.0",
         null,
         "155.75",
         null,
         "4.0",
         null
        ],
        [
         "max",
         "4122.0",
         null,
         "4932.0",
         null,
         "5.0",
         null
        ]
       ],
       "shape": {
        "columns": 6,
        "rows": 11
       }
      },
      "text/html": [
       "<div>\n",
       "<style scoped>\n",
       "    .dataframe tbody tr th:only-of-type {\n",
       "        vertical-align: middle;\n",
       "    }\n",
       "\n",
       "    .dataframe tbody tr th {\n",
       "        vertical-align: top;\n",
       "    }\n",
       "\n",
       "    .dataframe thead th {\n",
       "        text-align: right;\n",
       "    }\n",
       "</style>\n",
       "<table border=\"1\" class=\"dataframe\">\n",
       "  <thead>\n",
       "    <tr style=\"text-align: right;\">\n",
       "      <th></th>\n",
       "      <th>Customer Reference ID</th>\n",
       "      <th>Item Purchased</th>\n",
       "      <th>Purchase Amount (USD)</th>\n",
       "      <th>Date Purchase</th>\n",
       "      <th>Review Rating</th>\n",
       "      <th>Payment Method</th>\n",
       "    </tr>\n",
       "  </thead>\n",
       "  <tbody>\n",
       "    <tr>\n",
       "      <th>count</th>\n",
       "      <td>3400.000000</td>\n",
       "      <td>3400</td>\n",
       "      <td>2750.000000</td>\n",
       "      <td>3400</td>\n",
       "      <td>3076.000000</td>\n",
       "      <td>3400</td>\n",
       "    </tr>\n",
       "    <tr>\n",
       "      <th>unique</th>\n",
       "      <td>NaN</td>\n",
       "      <td>50</td>\n",
       "      <td>NaN</td>\n",
       "      <td>365</td>\n",
       "      <td>NaN</td>\n",
       "      <td>2</td>\n",
       "    </tr>\n",
       "    <tr>\n",
       "      <th>top</th>\n",
       "      <td>NaN</td>\n",
       "      <td>Belt</td>\n",
       "      <td>NaN</td>\n",
       "      <td>2023-09-22</td>\n",
       "      <td>NaN</td>\n",
       "      <td>Credit Card</td>\n",
       "    </tr>\n",
       "    <tr>\n",
       "      <th>freq</th>\n",
       "      <td>NaN</td>\n",
       "      <td>90</td>\n",
       "      <td>NaN</td>\n",
       "      <td>17</td>\n",
       "      <td>NaN</td>\n",
       "      <td>1770</td>\n",
       "    </tr>\n",
       "    <tr>\n",
       "      <th>mean</th>\n",
       "      <td>4039.660588</td>\n",
       "      <td>NaN</td>\n",
       "      <td>156.709818</td>\n",
       "      <td>NaN</td>\n",
       "      <td>2.999057</td>\n",
       "      <td>NaN</td>\n",
       "    </tr>\n",
       "    <tr>\n",
       "      <th>std</th>\n",
       "      <td>48.122583</td>\n",
       "      <td>NaN</td>\n",
       "      <td>419.536669</td>\n",
       "      <td>NaN</td>\n",
       "      <td>1.156505</td>\n",
       "      <td>NaN</td>\n",
       "    </tr>\n",
       "    <tr>\n",
       "      <th>min</th>\n",
       "      <td>3957.000000</td>\n",
       "      <td>NaN</td>\n",
       "      <td>10.000000</td>\n",
       "      <td>NaN</td>\n",
       "      <td>1.000000</td>\n",
       "      <td>NaN</td>\n",
       "    </tr>\n",
       "    <tr>\n",
       "      <th>25%</th>\n",
       "      <td>3997.000000</td>\n",
       "      <td>NaN</td>\n",
       "      <td>57.000000</td>\n",
       "      <td>NaN</td>\n",
       "      <td>2.000000</td>\n",
       "      <td>NaN</td>\n",
       "    </tr>\n",
       "    <tr>\n",
       "      <th>50%</th>\n",
       "      <td>4040.000000</td>\n",
       "      <td>NaN</td>\n",
       "      <td>110.000000</td>\n",
       "      <td>NaN</td>\n",
       "      <td>3.000000</td>\n",
       "      <td>NaN</td>\n",
       "    </tr>\n",
       "    <tr>\n",
       "      <th>75%</th>\n",
       "      <td>4081.000000</td>\n",
       "      <td>NaN</td>\n",
       "      <td>155.750000</td>\n",
       "      <td>NaN</td>\n",
       "      <td>4.000000</td>\n",
       "      <td>NaN</td>\n",
       "    </tr>\n",
       "    <tr>\n",
       "      <th>max</th>\n",
       "      <td>4122.000000</td>\n",
       "      <td>NaN</td>\n",
       "      <td>4932.000000</td>\n",
       "      <td>NaN</td>\n",
       "      <td>5.000000</td>\n",
       "      <td>NaN</td>\n",
       "    </tr>\n",
       "  </tbody>\n",
       "</table>\n",
       "</div>"
      ],
      "text/plain": [
       "        Customer Reference ID Item Purchased  Purchase Amount (USD)  \\\n",
       "count             3400.000000           3400            2750.000000   \n",
       "unique                    NaN             50                    NaN   \n",
       "top                       NaN           Belt                    NaN   \n",
       "freq                      NaN             90                    NaN   \n",
       "mean              4039.660588            NaN             156.709818   \n",
       "std                 48.122583            NaN             419.536669   \n",
       "min               3957.000000            NaN              10.000000   \n",
       "25%               3997.000000            NaN              57.000000   \n",
       "50%               4040.000000            NaN             110.000000   \n",
       "75%               4081.000000            NaN             155.750000   \n",
       "max               4122.000000            NaN            4932.000000   \n",
       "\n",
       "       Date Purchase  Review Rating Payment Method  \n",
       "count           3400    3076.000000           3400  \n",
       "unique           365            NaN              2  \n",
       "top       2023-09-22            NaN    Credit Card  \n",
       "freq              17            NaN           1770  \n",
       "mean             NaN       2.999057            NaN  \n",
       "std              NaN       1.156505            NaN  \n",
       "min              NaN       1.000000            NaN  \n",
       "25%              NaN       2.000000            NaN  \n",
       "50%              NaN       3.000000            NaN  \n",
       "75%              NaN       4.000000            NaN  \n",
       "max              NaN       5.000000            NaN  "
      ]
     },
     "execution_count": 103,
     "metadata": {},
     "output_type": "execute_result"
    }
   ],
   "source": [
    "df.describe(include=\"all\")"
   ]
  },
  {
   "cell_type": "markdown",
   "id": "9b2296a0",
   "metadata": {},
   "source": [
    "## Cleaning Data"
   ]
  },
  {
   "cell_type": "code",
   "execution_count": 104,
   "id": "f1a147fb",
   "metadata": {},
   "outputs": [],
   "source": [
    "df = df.dropna(subset=['Purchase Amount (USD)'])\n",
    "df['Review Rating'] = df['Review Rating'].fillna(df['Review Rating'].mean())"
   ]
  },
  {
   "cell_type": "code",
   "execution_count": 105,
   "id": "9a6077b7",
   "metadata": {},
   "outputs": [],
   "source": [
    "df['Date Purchase'] = pd.to_datetime(df['Date Purchase'])\n",
    "df = df.sort_values('Date Purchase')"
   ]
  },
  {
   "cell_type": "markdown",
   "id": "b1d5090d",
   "metadata": {},
   "source": [
    "## Preprocessing  Data"
   ]
  },
  {
   "cell_type": "code",
   "execution_count": 106,
   "id": "6a0ceda7",
   "metadata": {},
   "outputs": [],
   "source": [
    "df_daily = df.set_index('Date Purchase').resample('D').agg({\n",
    "    'Purchase Amount (USD)': 'sum',\n",
    "    'Item Purchased': 'count',\n",
    "    'Review Rating': 'mean'\n",
    "}).fillna(0)"
   ]
  },
  {
   "cell_type": "code",
   "execution_count": 107,
   "id": "eb2de2e2",
   "metadata": {},
   "outputs": [],
   "source": [
    "scaler = MinMaxScaler()\n",
    "scaled_values = scaler.fit_transform(df_daily[['Purchase Amount (USD)']])"
   ]
  },
  {
   "cell_type": "code",
   "execution_count": 108,
   "id": "00e3c499",
   "metadata": {},
   "outputs": [],
   "source": [
    "n_steps = 30\n",
    "X, y = [], []\n",
    "for i in range(n_steps, len(scaled_values)):\n",
    "    X.append(scaled_values[i-n_steps:i])\n",
    "    y.append(scaled_values[i])\n",
    "X, y = np.array(X), np.array(y)"
   ]
  },
  {
   "cell_type": "code",
   "execution_count": 109,
   "id": "180e1772",
   "metadata": {},
   "outputs": [],
   "source": [
    "train_size = int(len(df_daily) * 0.8)\n",
    "X_train, X_test = X[:train_size - n_steps], X[train_size - n_steps:]\n",
    "y_train, y_test = y[:train_size - n_steps], y[train_size - n_steps:]\n",
    "\n",
    "train_sarimax = df_daily['Purchase Amount (USD)'].iloc[:train_size]\n",
    "test_sarimax = df_daily['Purchase Amount (USD)'].iloc[train_size:]\n"
   ]
  },
  {
   "cell_type": "markdown",
   "id": "7334a8f4",
   "metadata": {},
   "source": [
    "## Modelling"
   ]
  },
  {
   "cell_type": "code",
   "execution_count": 110,
   "id": "07042a38",
   "metadata": {},
   "outputs": [
    {
     "name": "stdout",
     "output_type": "stream",
     "text": [
      "RUNNING THE L-BFGS-B CODE\n",
      "\n",
      "           * * *\n",
      "\n",
      "Machine precision = 2.220D-16\n",
      " N =            5     M =           10\n",
      "\n",
      "At X0         0 variables are exactly at the bounds\n",
      "\n",
      "At iterate    0    f=  8.63252D+00    |proj g|=  6.73906D-02\n",
      "\n",
      "At iterate    1    f=  8.59509D+00    |proj g|=  1.11205D-01\n",
      "\n",
      "At iterate    2    f=  8.56310D+00    |proj g|=  1.12751D-02\n",
      "\n",
      "At iterate    3    f=  8.55958D+00    |proj g|=  1.79614D-02\n",
      "\n",
      "At iterate    4    f=  8.55626D+00    |proj g|=  1.35246D-02\n",
      "\n",
      "At iterate    5    f=  8.55474D+00    |proj g|=  1.03011D-02\n",
      "\n",
      "At iterate    6    f=  8.55421D+00    |proj g|=  2.67022D-03\n",
      "\n",
      "At iterate    7    f=  8.55404D+00    |proj g|=  2.06283D-03\n",
      "\n",
      "At iterate    8    f=  8.55385D+00    |proj g|=  2.12828D-03\n",
      "\n",
      "At iterate    9    f=  8.55343D+00    |proj g|=  4.99057D-03\n",
      "\n",
      "At iterate   10    f=  8.55275D+00    |proj g|=  7.22763D-03\n",
      "\n",
      "At iterate   11    f=  8.55212D+00    |proj g|=  6.23105D-03\n",
      "\n",
      "At iterate   12    f=  8.55206D+00    |proj g|=  7.12988D-04\n",
      "\n",
      "At iterate   13    f=  8.55205D+00    |proj g|=  6.11010D-04\n",
      "\n",
      "At iterate   14    f=  8.55205D+00    |proj g|=  2.59357D-04\n",
      "\n",
      "At iterate   15    f=  8.55205D+00    |proj g|=  2.59390D-04\n",
      "\n",
      "At iterate   16    f=  8.55204D+00    |proj g|=  2.59542D-04\n",
      "\n",
      "At iterate   17    f=  8.55201D+00    |proj g|=  1.67608D-03\n"
     ]
    },
    {
     "name": "stderr",
     "output_type": "stream",
     "text": [
      " This problem is unconstrained.\n"
     ]
    },
    {
     "name": "stdout",
     "output_type": "stream",
     "text": [
      "\n",
      "At iterate   18    f=  8.55194D+00    |proj g|=  2.88210D-03\n",
      "\n",
      "At iterate   19    f=  8.55168D+00    |proj g|=  3.90546D-03\n",
      "\n",
      "At iterate   20    f=  8.54134D+00    |proj g|=  5.40058D-02\n",
      "\n",
      "At iterate   21    f=  8.53496D+00    |proj g|=  1.14900D-01\n",
      "\n",
      "At iterate   22    f=  8.50806D+00    |proj g|=  1.56624D-01\n",
      "\n",
      "At iterate   23    f=  8.48116D+00    |proj g|=  1.89812D-01\n",
      "\n",
      "At iterate   24    f=  8.43338D+00    |proj g|=  7.80841D-02\n",
      "\n",
      "At iterate   25    f=  8.43075D+00    |proj g|=  7.32916D-02\n",
      "\n",
      "At iterate   26    f=  8.42714D+00    |proj g|=  7.81573D-03\n",
      "\n",
      "At iterate   27    f=  8.42665D+00    |proj g|=  7.16403D-03\n",
      "\n",
      "At iterate   28    f=  8.42581D+00    |proj g|=  1.27363D-02\n",
      "\n",
      "At iterate   29    f=  8.42503D+00    |proj g|=  6.41911D-03\n",
      "\n",
      "At iterate   30    f=  8.42465D+00    |proj g|=  1.35400D-03\n",
      "\n",
      "At iterate   31    f=  8.42446D+00    |proj g|=  9.17269D-04\n",
      "\n",
      "At iterate   32    f=  8.42433D+00    |proj g|=  1.15239D-03\n",
      "\n",
      "At iterate   33    f=  8.42431D+00    |proj g|=  4.38019D-03\n",
      "\n",
      "At iterate   34    f=  8.42424D+00    |proj g|=  1.88936D-03\n",
      "\n",
      "At iterate   35    f=  8.42420D+00    |proj g|=  4.53274D-04\n",
      "\n",
      "At iterate   36    f=  8.42417D+00    |proj g|=  4.25735D-04\n",
      "\n",
      "At iterate   37    f=  8.42417D+00    |proj g|=  2.16470D-03\n",
      "\n",
      "At iterate   38    f=  8.42416D+00    |proj g|=  5.11687D-04\n",
      "\n",
      "At iterate   39    f=  8.42415D+00    |proj g|=  3.59999D-04\n",
      "\n",
      "At iterate   40    f=  8.42414D+00    |proj g|=  1.29164D-03\n",
      "\n",
      "At iterate   41    f=  8.42414D+00    |proj g|=  1.75270D-04\n",
      "\n",
      "At iterate   42    f=  8.42414D+00    |proj g|=  1.79571D-04\n",
      "\n",
      "At iterate   43    f=  8.42414D+00    |proj g|=  1.87696D-04\n",
      "\n",
      "At iterate   44    f=  8.42414D+00    |proj g|=  7.51220D-05\n",
      "\n",
      "At iterate   45    f=  8.42414D+00    |proj g|=  3.97552D-05\n",
      "\n",
      "At iterate   46    f=  8.42413D+00    |proj g|=  6.20625D-05\n",
      "\n",
      "At iterate   47    f=  8.42413D+00    |proj g|=  3.32973D-05\n",
      "\n",
      "At iterate   48    f=  8.42413D+00    |proj g|=  2.84876D-04\n",
      "\n",
      "At iterate   49    f=  8.42413D+00    |proj g|=  1.46713D-04\n",
      "\n",
      "At iterate   50    f=  8.42413D+00    |proj g|=  2.61620D-05\n",
      "\n",
      "At iterate   51    f=  8.42413D+00    |proj g|=  2.49836D-05\n",
      "\n",
      "At iterate   52    f=  8.42413D+00    |proj g|=  6.15719D-05\n",
      "\n",
      "           * * *\n",
      "\n",
      "Tit   = total number of iterations\n",
      "Tnf   = total number of function evaluations\n",
      "Tnint = total number of segments explored during Cauchy searches\n",
      "Skip  = number of BFGS updates skipped\n",
      "Nact  = number of active bounds at final generalized Cauchy point\n",
      "Projg = norm of the final projected gradient\n",
      "F     = final function value\n",
      "\n",
      "           * * *\n",
      "\n",
      "   N    Tit     Tnf  Tnint  Skip  Nact     Projg        F\n",
      "    5     52     62      1     0     0   6.157D-05   8.424D+00\n",
      "  F =   8.4241338477517225     \n",
      "\n",
      "CONVERGENCE: REL_REDUCTION_OF_F_<=_FACTR*EPSMCH             \n"
     ]
    }
   ],
   "source": [
    "sarimax_model = SARIMAX(train_sarimax, order=(1,1,1), seasonal_order=(1,1,1,7))\n",
    "sarimax_result = sarimax_model.fit(maxiter=300, method='lbfgs', disp=True)\n",
    "sarimax_pred = sarimax_result.get_forecast(steps=len(test_sarimax)).predicted_mean"
   ]
  },
  {
   "cell_type": "code",
   "execution_count": 111,
   "id": "2e00b749",
   "metadata": {},
   "outputs": [
    {
     "name": "stdout",
     "output_type": "stream",
     "text": [
      "Epoch 1/20\n",
      "\u001b[1m17/17\u001b[0m \u001b[32m━━━━━━━━━━━━━━━━━━━━\u001b[0m\u001b[37m\u001b[0m \u001b[1m1s\u001b[0m 7ms/step - loss: 0.0269\n",
      "Epoch 2/20\n",
      "\u001b[1m17/17\u001b[0m \u001b[32m━━━━━━━━━━━━━━━━━━━━\u001b[0m\u001b[37m\u001b[0m \u001b[1m0s\u001b[0m 7ms/step - loss: 0.0205\n",
      "Epoch 3/20\n",
      "\u001b[1m17/17\u001b[0m \u001b[32m━━━━━━━━━━━━━━━━━━━━\u001b[0m\u001b[37m\u001b[0m \u001b[1m0s\u001b[0m 7ms/step - loss: 0.0194\n",
      "Epoch 4/20\n",
      "\u001b[1m17/17\u001b[0m \u001b[32m━━━━━━━━━━━━━━━━━━━━\u001b[0m\u001b[37m\u001b[0m \u001b[1m0s\u001b[0m 7ms/step - loss: 0.0224\n",
      "Epoch 5/20\n",
      "\u001b[1m17/17\u001b[0m \u001b[32m━━━━━━━━━━━━━━━━━━━━\u001b[0m\u001b[37m\u001b[0m \u001b[1m0s\u001b[0m 7ms/step - loss: 0.0182\n",
      "Epoch 6/20\n",
      "\u001b[1m17/17\u001b[0m \u001b[32m━━━━━━━━━━━━━━━━━━━━\u001b[0m\u001b[37m\u001b[0m \u001b[1m0s\u001b[0m 8ms/step - loss: 0.0175\n",
      "Epoch 7/20\n",
      "\u001b[1m17/17\u001b[0m \u001b[32m━━━━━━━━━━━━━━━━━━━━\u001b[0m\u001b[37m\u001b[0m \u001b[1m0s\u001b[0m 8ms/step - loss: 0.0217\n",
      "Epoch 8/20\n",
      "\u001b[1m17/17\u001b[0m \u001b[32m━━━━━━━━━━━━━━━━━━━━\u001b[0m\u001b[37m\u001b[0m \u001b[1m0s\u001b[0m 8ms/step - loss: 0.0172\n",
      "Epoch 9/20\n",
      "\u001b[1m17/17\u001b[0m \u001b[32m━━━━━━━━━━━━━━━━━━━━\u001b[0m\u001b[37m\u001b[0m \u001b[1m0s\u001b[0m 8ms/step - loss: 0.0222\n",
      "Epoch 10/20\n",
      "\u001b[1m17/17\u001b[0m \u001b[32m━━━━━━━━━━━━━━━━━━━━\u001b[0m\u001b[37m\u001b[0m \u001b[1m0s\u001b[0m 9ms/step - loss: 0.0185\n",
      "Epoch 11/20\n",
      "\u001b[1m17/17\u001b[0m \u001b[32m━━━━━━━━━━━━━━━━━━━━\u001b[0m\u001b[37m\u001b[0m \u001b[1m0s\u001b[0m 8ms/step - loss: 0.0213\n",
      "Epoch 12/20\n",
      "\u001b[1m17/17\u001b[0m \u001b[32m━━━━━━━━━━━━━━━━━━━━\u001b[0m\u001b[37m\u001b[0m \u001b[1m0s\u001b[0m 8ms/step - loss: 0.0164\n",
      "Epoch 13/20\n",
      "\u001b[1m17/17\u001b[0m \u001b[32m━━━━━━━━━━━━━━━━━━━━\u001b[0m\u001b[37m\u001b[0m \u001b[1m0s\u001b[0m 8ms/step - loss: 0.0214\n",
      "Epoch 14/20\n",
      "\u001b[1m17/17\u001b[0m \u001b[32m━━━━━━━━━━━━━━━━━━━━\u001b[0m\u001b[37m\u001b[0m \u001b[1m0s\u001b[0m 8ms/step - loss: 0.0203\n",
      "Epoch 15/20\n",
      "\u001b[1m17/17\u001b[0m \u001b[32m━━━━━━━━━━━━━━━━━━━━\u001b[0m\u001b[37m\u001b[0m \u001b[1m0s\u001b[0m 8ms/step - loss: 0.0168\n",
      "Epoch 16/20\n",
      "\u001b[1m17/17\u001b[0m \u001b[32m━━━━━━━━━━━━━━━━━━━━\u001b[0m\u001b[37m\u001b[0m \u001b[1m0s\u001b[0m 8ms/step - loss: 0.0186\n",
      "Epoch 17/20\n",
      "\u001b[1m17/17\u001b[0m \u001b[32m━━━━━━━━━━━━━━━━━━━━\u001b[0m\u001b[37m\u001b[0m \u001b[1m0s\u001b[0m 8ms/step - loss: 0.0180\n",
      "Epoch 18/20\n",
      "\u001b[1m17/17\u001b[0m \u001b[32m━━━━━━━━━━━━━━━━━━━━\u001b[0m\u001b[37m\u001b[0m \u001b[1m0s\u001b[0m 8ms/step - loss: 0.0280\n",
      "Epoch 19/20\n",
      "\u001b[1m17/17\u001b[0m \u001b[32m━━━━━━━━━━━━━━━━━━━━\u001b[0m\u001b[37m\u001b[0m \u001b[1m0s\u001b[0m 8ms/step - loss: 0.0159\n",
      "Epoch 20/20\n",
      "\u001b[1m17/17\u001b[0m \u001b[32m━━━━━━━━━━━━━━━━━━━━\u001b[0m\u001b[37m\u001b[0m \u001b[1m0s\u001b[0m 10ms/step - loss: 0.0227\n",
      "\u001b[1m3/3\u001b[0m \u001b[32m━━━━━━━━━━━━━━━━━━━━\u001b[0m\u001b[37m\u001b[0m \u001b[1m0s\u001b[0m 58ms/step\n"
     ]
    }
   ],
   "source": [
    "model = Sequential()\n",
    "model.add(GRU(64, return_sequences=True, input_shape=(n_steps, 1)))\n",
    "model.add(Dropout(0.2))\n",
    "model.add(GRU(32))\n",
    "model.add(Dense(1))\n",
    "model.compile(optimizer='adam', loss='mse')\n",
    "model.fit(X_train, y_train, epochs=20, batch_size=16, verbose=1)\n",
    "\n",
    "# Prediksi dan inverse transform\n",
    "y_pred_gru = model.predict(X_test)\n",
    "y_pred_gru_inv = scaler.inverse_transform(y_pred_gru)\n",
    "y_test_inv = scaler.inverse_transform(y_test)"
   ]
  },
  {
   "cell_type": "markdown",
   "id": "7247ce18",
   "metadata": {},
   "source": [
    "## Evaluating"
   ]
  },
  {
   "cell_type": "code",
   "execution_count": 112,
   "id": "2df13e14",
   "metadata": {},
   "outputs": [],
   "source": [
    "# SARIMAX\n",
    "mae_sarimax = mean_absolute_error(test_sarimax, sarimax_pred)\n",
    "mape_sarimax = mean_absolute_percentage_error(test_sarimax, sarimax_pred) * 100\n",
    "r2_sarimax = r2_score(test_sarimax, sarimax_pred)\n",
    "\n",
    "# GRU\n",
    "mae_gru = mean_absolute_error(y_test_inv, y_pred_gru_inv)\n",
    "mape_gru = mean_absolute_percentage_error(y_test_inv, y_pred_gru_inv) * 100\n",
    "r2_gru = r2_score(y_test_inv, y_pred_gru_inv)\n"
   ]
  },
  {
   "cell_type": "code",
   "execution_count": 113,
   "id": "ff023c96",
   "metadata": {},
   "outputs": [
    {
     "name": "stdout",
     "output_type": "stream",
     "text": [
      "=== SARIMAX Evaluation ===\n",
      "RMSE  : 950.26\n",
      "MAE   : 698.49\n",
      "MAPE  : 100.67%\n",
      "R2    : -0.16\n",
      "\n",
      "=== GRU Evaluation ===\n",
      "RMSE  : 927.89\n",
      "MAE   : 536.20\n",
      "MAPE  : 73.32%\n",
      "R2    : -0.03\n"
     ]
    }
   ],
   "source": [
    "print(\"=== SARIMAX Evaluation ===\")\n",
    "print(f\"RMSE  : {rmse_sarimax:.2f}\")\n",
    "print(f\"MAE   : {mae_sarimax:.2f}\")\n",
    "print(f\"MAPE  : {mape_sarimax:.2f}%\")\n",
    "print(f\"R2    : {r2_sarimax:.2f}\")\n",
    "\n",
    "print(\"\\n=== GRU Evaluation ===\")\n",
    "print(f\"RMSE  : {rmse_gru:.2f}\")\n",
    "print(f\"MAE   : {mae_gru:.2f}\")\n",
    "print(f\"MAPE  : {mape_gru:.2f}%\")\n",
    "print(f\"R2    : {r2_gru:.2f}\")\n"
   ]
  },
  {
   "cell_type": "code",
   "execution_count": 114,
   "id": "d74c646f",
   "metadata": {},
   "outputs": [
    {
     "data": {
      "image/png": "[encoded data removed]",
      "text/plain": [
       "<Figure size 1400x600 with 1 Axes>"
      ]
     },
     "metadata": {},
     "output_type": "display_data"
    }
   ],
   "source": [
    "plt.figure(figsize=(14,6))\n",
    "plt.plot(test_sarimax.index, test_sarimax, label='Actual')  # ✅ Benar\n",
    "plt.plot(test_sarimax.index, sarimax_pred, label='SARIMAX', color='blue')\n",
    "plt.plot(test_sarimax.index[-len(y_pred_gru):], y_pred_gru_inv, label='GRU', color='green')\n",
    "\n",
    "plt.title(\"Perbandingan Prediksi SARIMAX vs GRU\")\n",
    "plt.xlabel(\"Tanggal\")\n",
    "plt.ylabel(\"Jumlah Pembelian (USD)\")\n",
    "plt.legend()\n",
    "plt.grid(True)\n",
    "plt.xticks(rotation=45)\n",
    "plt.tight_layout()\n",
    "plt.show()"
   ]
  }
 ],
 "metadata": {
  "kernelspec": {
   "display_name": "base",
   "language": "python",
   "name": "python3"
  },
  "language_info": {
   "codemirror_mode": {
    "name": "ipython",
    "version": 3
   },
   "file_extension": ".py",
   "mimetype": "text/x-python",
   "name": "python",
   "nbconvert_exporter": "python",
   "pygments_lexer": "ipython3",
   "version": "3.12.7"
  }
 },
 "nbformat": 4,
 "nbformat_minor": 5
}
